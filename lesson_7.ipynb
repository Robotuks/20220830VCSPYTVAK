{
 "cells": [
  {
   "cell_type": "code",
   "execution_count": 1,
   "metadata": {},
   "outputs": [],
   "source": [
    "import keyboard"
   ]
  },
  {
   "cell_type": "code",
   "execution_count": 2,
   "metadata": {},
   "outputs": [
    {
     "name": "stdout",
     "output_type": "stream",
     "text": [
      "esc was pressed\n"
     ]
    }
   ],
   "source": [
    "keyboard.wait('esc')\n",
    "print ('esc was pressed')"
   ]
  },
  {
   "cell_type": "markdown",
   "metadata": {},
   "source": [
    "# Classes"
   ]
  },
  {
   "cell_type": "code",
   "execution_count": 18,
   "metadata": {},
   "outputs": [],
   "source": [
    "class Car:\n",
    "    def __init__(self, brand, year, color, car_type):\n",
    "        self.brand = brand\n",
    "        self.year = year\n",
    "        self.color = color\n",
    "        self.car_type = car_type\n",
    "\n",
    "    def __str__(self) -> str:\n",
    "        return f'Brand: {self.brand}, year: {self.year}, color: {self.color}'"
   ]
  },
  {
   "cell_type": "code",
   "execution_count": 19,
   "metadata": {},
   "outputs": [
    {
     "name": "stdout",
     "output_type": "stream",
     "text": [
      "car 1\n",
      "Audi\n",
      "2005\n",
      "Brand: Audi, year: 2005, color: red\n",
      "car 2\n",
      "BMW\n",
      "2015\n",
      "Brand: BMW, year: 2015, color: black\n"
     ]
    }
   ],
   "source": [
    "car_1 = Car('Audi', 2005, 'red', 'wagon')\n",
    "print ('car 1')\n",
    "print (car_1.brand)\n",
    "print (car_1.year)\n",
    "print (car_1)\n",
    "\n",
    "car_2 = Car('BMW', 2015, 'black', '')\n",
    "print ('car 2')\n",
    "print (car_2.brand)\n",
    "print (car_2.year)\n",
    "print (car_2)"
   ]
  },
  {
   "cell_type": "code",
   "execution_count": 10,
   "metadata": {},
   "outputs": [
    {
     "name": "stdout",
     "output_type": "stream",
     "text": [
      "car brand Audi\n",
      "car brand BMW\n"
     ]
    }
   ],
   "source": [
    "cars = [ car_1, car_2 ]\n",
    "for car in cars:\n",
    "    print (f'car brand {car.brand}' )"
   ]
  },
  {
   "cell_type": "code",
   "execution_count": 43,
   "metadata": {},
   "outputs": [],
   "source": [
    "class Car:\n",
    "    def __init__(self, brand, year, color, car_type):\n",
    "        self.brand = brand\n",
    "        self.year = year\n",
    "        self.color = color\n",
    "        self.car_type = car_type\n",
    "\n",
    "        self.engine_status = False\n",
    "        self.window_fluid = 0.\n",
    "        self.MAX_WINDOW_FLUID = 3.4\n",
    "\n",
    "    def __str__(self) -> str:\n",
    "        return f'Brand: {self.brand}, year: {self.year}, color: {self.color}'\n",
    "\n",
    "    def start_engine(self):\n",
    "        if self.engine_status == False:\n",
    "            self.engine_status = True\n",
    "\n",
    "    def stop_engine(self):\n",
    "        if self.engine_status == True:\n",
    "            self.engine_status = False\n",
    "\n",
    "    def add_window_fluid(self, amount_of_fluid):\n",
    "        if self.window_fluid + amount_of_fluid > self.MAX_WINDOW_FLUID:\n",
    "            self.window_fluid = self.MAX_WINDOW_FLUID\n",
    "        else:\n",
    "            self.window_fluid += amount_of_fluid\n"
   ]
  },
  {
   "cell_type": "code",
   "execution_count": 44,
   "metadata": {},
   "outputs": [
    {
     "name": "stdout",
     "output_type": "stream",
     "text": [
      "car 1\n",
      "Brand: Audi, year: 2005, color: red\n",
      "engine is False\n",
      "starting the engine\n",
      "engine is True\n",
      "stopping the engine\n",
      "engine is False\n",
      "adding window fluid\n",
      "car has 2.0 l of window fluid\n",
      "car has 3.4 l of window fluid\n",
      "car 2\n",
      "Brand: BMW, year: 2015, color: black\n",
      "engine is False\n"
     ]
    }
   ],
   "source": [
    "car_1 = Car('Audi', 2005, 'red', 'wagon')\n",
    "print ('car 1')\n",
    "print (car_1)\n",
    "print (f'engine is {car_1.engine_status}')\n",
    "print ('starting the engine')\n",
    "car_1.start_engine()\n",
    "print (f'engine is {car_1.engine_status}')\n",
    "print ('stopping the engine')\n",
    "car_1.stop_engine()\n",
    "print (f'engine is {car_1.engine_status}')\n",
    "\n",
    "print ('adding window fluid')\n",
    "car_1.add_window_fluid(2.)\n",
    "print (f'car has {car_1.window_fluid} l of window fluid')\n",
    "car_1.add_window_fluid(3.)\n",
    "print (f'car has {car_1.window_fluid} l of window fluid')\n",
    "\n",
    "car_2 = Car('BMW', 2015, 'black', '')\n",
    "print ('car 2')\n",
    "print (car_2)\n",
    "print (f'engine is {car_2.engine_status}')"
   ]
  },
  {
   "cell_type": "code",
   "execution_count": 28,
   "metadata": {},
   "outputs": [
    {
     "name": "stdout",
     "output_type": "stream",
     "text": [
      "{'brand': 'Audi', 'year': 2005, 'engine_status': False}\n",
      "{'brand': 'Audi', 'year': 2005, 'engine_status': True}\n"
     ]
    }
   ],
   "source": [
    "car_1_dict = {\n",
    "    'brand' :'Audi',\n",
    "    'year': 2005,\n",
    "    'engine_status': False\n",
    "}\n",
    "\n",
    "def start_car_engine(car):\n",
    "    if car['engine_status'] == False:\n",
    "            car['engine_status'] = True\n",
    "\n",
    "print(car_1_dict)\n",
    "\n",
    "start_car_engine( car_1_dict )\n",
    "\n",
    "print (car_1_dict)\n"
   ]
  },
  {
   "cell_type": "code",
   "execution_count": 55,
   "metadata": {},
   "outputs": [],
   "source": [
    "class Pipe:\n",
    "    def __init__(self) -> None:\n",
    "        self.example_attribute = \"hello\"\n",
    "\n",
    "    def flow_rate(self, velocity):\n",
    "        return self.cross_section() * velocity\n",
    "    \n",
    "    def cross_section(self):\n",
    "        raise NotImplementedError"
   ]
  },
  {
   "cell_type": "code",
   "execution_count": 56,
   "metadata": {},
   "outputs": [],
   "source": [
    "class SquarePipe(Pipe):\n",
    "    def __init__(self, width, height):\n",
    "        super().__init__()\n",
    "        self.width = width\n",
    "        self.height = height\n",
    "    \n",
    "    def cross_section(self):\n",
    "        return self.width * self.height"
   ]
  },
  {
   "cell_type": "code",
   "execution_count": 60,
   "metadata": {},
   "outputs": [
    {
     "name": "stdout",
     "output_type": "stream",
     "text": [
      "0.06\n"
     ]
    },
    {
     "data": {
      "text/plain": [
       "'hello'"
      ]
     },
     "execution_count": 60,
     "metadata": {},
     "output_type": "execute_result"
    }
   ],
   "source": [
    "square_pipe_1 = SquarePipe(0.4, 0.3)\n",
    "print (square_pipe_1.flow_rate(0.5) )\n",
    "square_pipe_1.example_attribute"
   ]
  },
  {
   "cell_type": "code",
   "execution_count": 58,
   "metadata": {},
   "outputs": [],
   "source": [
    "class RoundPipe(Pipe):\n",
    "    def __init__(self, radius):\n",
    "        super().__init__() # without this, won't share parent attributes \n",
    "        self.radius = radius\n",
    "    \n",
    "    def cross_section(self):\n",
    "        return 3.14 * self.radius ** 2"
   ]
  },
  {
   "cell_type": "code",
   "execution_count": 61,
   "metadata": {},
   "outputs": [
    {
     "name": "stdout",
     "output_type": "stream",
     "text": [
      "0.3925\n"
     ]
    },
    {
     "ename": "AttributeError",
     "evalue": "'RoundPipe' object has no attribute 'example_attribute'",
     "output_type": "error",
     "traceback": [
      "\u001b[1;31m---------------------------------------------------------------------------\u001b[0m",
      "\u001b[1;31mAttributeError\u001b[0m                            Traceback (most recent call last)",
      "\u001b[1;32mc:\\Users\\Robotux\\Documents\\Python\\20220830VCSPYTVAK\\lesson_7.ipynb Cell 14\u001b[0m in \u001b[0;36m<module>\u001b[1;34m\u001b[0m\n\u001b[0;32m      <a href='vscode-notebook-cell:/c%3A/Users/Robotux/Documents/Python/20220830VCSPYTVAK/lesson_7.ipynb#X20sZmlsZQ%3D%3D?line=0'>1</a>\u001b[0m round_pipe_1 \u001b[39m=\u001b[39m RoundPipe(\u001b[39m0.5\u001b[39m)\n\u001b[0;32m      <a href='vscode-notebook-cell:/c%3A/Users/Robotux/Documents/Python/20220830VCSPYTVAK/lesson_7.ipynb#X20sZmlsZQ%3D%3D?line=1'>2</a>\u001b[0m \u001b[39mprint\u001b[39m (round_pipe_1\u001b[39m.\u001b[39mflow_rate(\u001b[39m0.5\u001b[39m) )\n\u001b[1;32m----> <a href='vscode-notebook-cell:/c%3A/Users/Robotux/Documents/Python/20220830VCSPYTVAK/lesson_7.ipynb#X20sZmlsZQ%3D%3D?line=2'>3</a>\u001b[0m round_pipe_1\u001b[39m.\u001b[39;49mexample_attribute\n",
      "\u001b[1;31mAttributeError\u001b[0m: 'RoundPipe' object has no attribute 'example_attribute'"
     ]
    }
   ],
   "source": [
    "round_pipe_1 = RoundPipe(0.5)\n",
    "print (round_pipe_1.flow_rate(0.5) )\n",
    "round_pipe_1.example_attribute"
   ]
  },
  {
   "cell_type": "code",
   "execution_count": 117,
   "metadata": {},
   "outputs": [],
   "source": [
    "\n"
   ]
  },
  {
   "cell_type": "code",
   "execution_count": 132,
   "metadata": {},
   "outputs": [],
   "source": [
    "class Knyga:\n",
    "    def __init__(self, pavadinimas, autorius, metai, puslapiu_kiekis):\n",
    "        self.pavadinimas = pavadinimas\n",
    "        self.autorius = autorius\n",
    "        self.metai = metai\n",
    "        self.puslapiu_kiekis = puslapiu_kiekis\n",
    "        \n",
    "        self.paskolinta = False\n",
    "        self.savininkas = None\n",
    "        self.grazinimo_terminas = None\n",
    "    \n",
    "    def skolinti(self, naujas_savininkas, terminas):\n",
    "        self.savininkas = naujas_savininkas\n",
    "        self.grazinimo_terminas = terminas\n",
    "        self.paskolinta = True\n",
    "\n",
    "    def grazinti(self):\n",
    "        self.savininkas = None\n",
    "        self.grazinimo_terminas = None\n",
    "        self.paskolinta = False\n",
    "\n",
    "    def __eq__(self, kita_knyga):\n",
    "        return self.pavadinimas == kita_knyga.pavadinimas and self.autorius == kita_knyga.autorius\n",
    "\n",
    "    def __repr__(self):\n",
    "        return f\"\"\" '{self.pavadinimas}', {self.autorius}, {self.metai} m. \"\"\"\n"
   ]
  },
  {
   "cell_type": "code",
   "execution_count": 134,
   "metadata": {},
   "outputs": [],
   "source": [
    "import datetime\n",
    "\n",
    "# read more about 'typing'\n",
    "\n",
    "class Biblioteka:\n",
    "    def __init__(self, pavadinimas: str):\n",
    "        # savybes (attributes)\n",
    "        self.pavadinimas = pavadinimas\n",
    "        self.knygos: list[ Knyga ] = []\n",
    "\n",
    "    # metodai (methods)\n",
    "    def prideti_knyga(self, knyga: Knyga):\n",
    "        self.knygos.append(knyga)\n",
    "\n",
    "    def pasalinti_knyga(self, knyga_pasalinimui: Knyga):\n",
    "        if knyga_pasalinimui in self.knygos:\n",
    "            self.knygos.remove(knyga_pasalinimui)\n",
    "        else:\n",
    "            print(f'Knyga {knyga_pasalinimui} nerasta musu sistemoje, negalime jos pasalinti')\n",
    "\n",
    "    def knygu_laisvumas(self):\n",
    "        for knyga in self.knygos:\n",
    "            # if not knyga.paskolinta:\n",
    "            print (f\"{knyga.pavadinimas} yra {'laisva' if not knyga.paskolinta else 'paskolinta'}\")\n",
    "\n",
    "    def paskolinti_knyga(self, vartotojas: str, knygos_pavadinimas: str):\n",
    "\n",
    "        rasta_laiva_knyga = False\n",
    "\n",
    "        for knyga in self.knygos:\n",
    "            if knyga.pavadinimas == knygos_pavadinimas and not knyga.paskolinta:\n",
    "                terminas = datetime.date.today() + datetime.timedelta(weeks=4)\n",
    "                rasta_laiva_knyga = True\n",
    "                knyga.skolinti(vartotojas, terminas)\n",
    "\n",
    "        if not rasta_laiva_knyga:\n",
    "            print(f'Laisvos knygos su pavadinimu {knygos_pavadinimas} nerasta sioje bibliotekoje')"
   ]
  },
  {
   "cell_type": "code",
   "execution_count": 135,
   "metadata": {},
   "outputs": [],
   "source": [
    "knyga_1 = Knyga(pavadinimas=\"knyga_5\", autorius=\"Kazkoks zymus zmogus\", metai=1843, puslapiu_kiekis=576 )\n",
    "knyga_2 = Knyga(\"knyga_2\", \"Kazkoks zymus zmogus\", 1983, 576 )\n",
    "knyga_3 = Knyga(\"knyga_3\", \"Kitas zmogus\", 1923, 547 )\n",
    "knyga_4 = Knyga(\"knyga_2\", \"Kazkas\", 1489, 4984 )\n",
    "knyga_5 = Knyga(\"knyga_5\", \"Kazkoks zymus zmogus\", 1843, 576 )"
   ]
  },
  {
   "cell_type": "code",
   "execution_count": 136,
   "metadata": {},
   "outputs": [
    {
     "name": "stdout",
     "output_type": "stream",
     "text": [
      "False\n",
      "True\n"
     ]
    }
   ],
   "source": [
    "print (knyga_1 == knyga_2 )\n",
    "print (knyga_1 == knyga_5 )"
   ]
  },
  {
   "cell_type": "code",
   "execution_count": 137,
   "metadata": {},
   "outputs": [
    {
     "name": "stdout",
     "output_type": "stream",
     "text": [
      "<__main__.Biblioteka object at 0x0000014870F4EE60>\n",
      "[]\n",
      "[ 'knyga_5', Kazkoks zymus zmogus, 1843 m. ,  'knyga_2', Kazkoks zymus zmogus, 1983 m. ,  'knyga_3', Kitas zmogus, 1923 m. ,  'knyga_2', Kazkas, 1489 m. ,  'knyga_5', Kazkoks zymus zmogus, 1843 m. ]\n",
      "knyga_5 yra laisva\n",
      "knyga_2 yra laisva\n",
      "knyga_3 yra laisva\n",
      "knyga_2 yra laisva\n",
      "knyga_5 yra laisva\n"
     ]
    }
   ],
   "source": [
    "mano_biblioteka = Biblioteka('VCS biblioteka')\n",
    "print(mano_biblioteka)\n",
    "print(mano_biblioteka.knygos)\n",
    "\n",
    "mano_biblioteka.prideti_knyga(knyga_1)\n",
    "mano_biblioteka.prideti_knyga(knyga_2)\n",
    "mano_biblioteka.prideti_knyga(knyga_3)\n",
    "mano_biblioteka.prideti_knyga(knyga_4)\n",
    "mano_biblioteka.prideti_knyga(knyga_5)\n",
    "\n",
    "print(mano_biblioteka.knygos)\n",
    "\n",
    "mano_biblioteka.knygu_laisvumas()"
   ]
  },
  {
   "cell_type": "code",
   "execution_count": 138,
   "metadata": {},
   "outputs": [],
   "source": [
    "mano_biblioteka.paskolinti_knyga('Petrui', 'knyga_3')"
   ]
  },
  {
   "cell_type": "code",
   "execution_count": 139,
   "metadata": {},
   "outputs": [
    {
     "name": "stdout",
     "output_type": "stream",
     "text": [
      "knyga_5 yra laisva\n",
      "knyga_2 yra laisva\n",
      "knyga_3 yra paskolinta\n",
      "knyga_2 yra laisva\n",
      "knyga_5 yra laisva\n"
     ]
    }
   ],
   "source": [
    "mano_biblioteka.knygu_laisvumas()"
   ]
  },
  {
   "cell_type": "code",
   "execution_count": 140,
   "metadata": {},
   "outputs": [
    {
     "data": {
      "text/plain": [
       "'Petrui'"
      ]
     },
     "execution_count": 140,
     "metadata": {},
     "output_type": "execute_result"
    }
   ],
   "source": [
    "knyga_3.savininkas"
   ]
  },
  {
   "cell_type": "code",
   "execution_count": 129,
   "metadata": {},
   "outputs": [
    {
     "data": {
      "text/plain": [
       "'knyga_3'"
      ]
     },
     "execution_count": 129,
     "metadata": {},
     "output_type": "execute_result"
    }
   ],
   "source": [
    "knyga_3.pavadinimas"
   ]
  },
  {
   "cell_type": "code",
   "execution_count": 130,
   "metadata": {},
   "outputs": [
    {
     "name": "stdout",
     "output_type": "stream",
     "text": [
      "knyga_2\n",
      "pavadinimas_knyga4\n"
     ]
    }
   ],
   "source": [
    "print (knyga_4.pavadinimas)\n",
    "knyga_4.pavadinimas = 'pavadinimas_knyga4' # tokio perrasymo reikia vengti\n",
    "print (knyga_4.pavadinimas)"
   ]
  },
  {
   "cell_type": "code",
   "execution_count": 141,
   "metadata": {},
   "outputs": [],
   "source": [
    "# no suggestions\n",
    "def string_function( variable ):\n",
    "    return variable.replace(\" \", \"_\")\n",
    "\n",
    "# variable_name : <variable_type>\n",
    "def string_function_with_suggestion( variable: str ) -> str:\n",
    "    return variable.replace(\" \", \"_\")"
   ]
  },
  {
   "cell_type": "code",
   "execution_count": 142,
   "metadata": {},
   "outputs": [
    {
     "ename": "AttributeError",
     "evalue": "'list' object has no attribute 'replace'",
     "output_type": "error",
     "traceback": [
      "\u001b[1;31m---------------------------------------------------------------------------\u001b[0m",
      "\u001b[1;31mAttributeError\u001b[0m                            Traceback (most recent call last)",
      "\u001b[1;32mc:\\Users\\Robotux\\Documents\\Python\\20220830VCSPYTVAK\\lesson_7.ipynb Cell 27\u001b[0m in \u001b[0;36m<module>\u001b[1;34m\u001b[0m\n\u001b[1;32m----> <a href='vscode-notebook-cell:/c%3A/Users/Robotux/Documents/Python/20220830VCSPYTVAK/lesson_7.ipynb#X36sZmlsZQ%3D%3D?line=0'>1</a>\u001b[0m string_function_with_suggestion([\u001b[39m4\u001b[39;49m,\u001b[39m1654\u001b[39;49m,\u001b[39m456\u001b[39;49m,\u001b[39m4\u001b[39;49m,\u001b[39m4\u001b[39;49m])\n",
      "\u001b[1;32mc:\\Users\\Robotux\\Documents\\Python\\20220830VCSPYTVAK\\lesson_7.ipynb Cell 27\u001b[0m in \u001b[0;36mstring_function_with_suggestion\u001b[1;34m(variable)\u001b[0m\n\u001b[0;32m      <a href='vscode-notebook-cell:/c%3A/Users/Robotux/Documents/Python/20220830VCSPYTVAK/lesson_7.ipynb#X36sZmlsZQ%3D%3D?line=5'>6</a>\u001b[0m \u001b[39mdef\u001b[39;00m \u001b[39mstring_function_with_suggestion\u001b[39m( variable: \u001b[39mstr\u001b[39m ) \u001b[39m-\u001b[39m\u001b[39m>\u001b[39m \u001b[39mstr\u001b[39m:\n\u001b[1;32m----> <a href='vscode-notebook-cell:/c%3A/Users/Robotux/Documents/Python/20220830VCSPYTVAK/lesson_7.ipynb#X36sZmlsZQ%3D%3D?line=6'>7</a>\u001b[0m     \u001b[39mreturn\u001b[39;00m variable\u001b[39m.\u001b[39;49mreplace(\u001b[39m\"\u001b[39m\u001b[39m \u001b[39m\u001b[39m\"\u001b[39m, \u001b[39m\"\u001b[39m\u001b[39m_\u001b[39m\u001b[39m\"\u001b[39m)\n",
      "\u001b[1;31mAttributeError\u001b[0m: 'list' object has no attribute 'replace'"
     ]
    }
   ],
   "source": [
    "string_function_with_suggestion([4,1654,456,4,4])"
   ]
  },
  {
   "cell_type": "code",
   "execution_count": null,
   "metadata": {},
   "outputs": [],
   "source": []
  },
  {
   "cell_type": "code",
   "execution_count": null,
   "metadata": {},
   "outputs": [],
   "source": []
  }
 ],
 "metadata": {
  "kernelspec": {
   "display_name": "Python 3.10.2 64-bit",
   "language": "python",
   "name": "python3"
  },
  "language_info": {
   "codemirror_mode": {
    "name": "ipython",
    "version": 3
   },
   "file_extension": ".py",
   "mimetype": "text/x-python",
   "name": "python",
   "nbconvert_exporter": "python",
   "pygments_lexer": "ipython3",
   "version": "3.10.2"
  },
  "orig_nbformat": 4,
  "vscode": {
   "interpreter": {
    "hash": "db50a459ab6695ace3368e8957af3456c8c93e92d9fe6c38987133d01669da40"
   }
  }
 },
 "nbformat": 4,
 "nbformat_minor": 2
}
