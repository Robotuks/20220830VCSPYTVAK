{
 "cells": [
  {
   "cell_type": "markdown",
   "metadata": {},
   "source": [
    "# Namų darbai"
   ]
  },
  {
   "cell_type": "markdown",
   "metadata": {},
   "source": [
    "1.Sudėti du list’us, išimti paskutinį narį iš sudėto listo, išrikiuoti list’ą, suskaičiuoti kiek yra kokios nors reikšmės įvesčių list’e"
   ]
  },
  {
   "cell_type": "code",
   "execution_count": 6,
   "metadata": {},
   "outputs": [
    {
     "name": "stdout",
     "output_type": "stream",
     "text": [
      "[1, 5, 1, 10, 50, 12]\n",
      "[1, 5, 1, 10, 50]\n",
      "[1, 1, 5, 10, 50]\n"
     ]
    },
    {
     "data": {
      "text/plain": [
       "2"
      ]
     },
     "execution_count": 6,
     "metadata": {},
     "output_type": "execute_result"
    }
   ],
   "source": [
    "list_1 = [1,5,1]\n",
    "list_2 = [10,50,12]\n",
    "list_combined = list_1 + list_2\n",
    "print (list_combined)\n",
    "list_combined.pop()\n",
    "print (list_combined)\n",
    "\n",
    "list_combined.sort()\n",
    "print (list_combined)\n",
    "\n",
    "list_combined.count(1)"
   ]
  },
  {
   "cell_type": "code",
   "execution_count": 8,
   "metadata": {},
   "outputs": [
    {
     "name": "stdout",
     "output_type": "stream",
     "text": [
      "['a', 'ab', 'astrwre', '', 'asa', 'g']\n",
      "['a', 'ab', 'astrwre', '', 'asa']\n",
      "['astrwre', 'asa', 'ab', 'a', '']\n"
     ]
    },
    {
     "data": {
      "text/plain": [
       "0"
      ]
     },
     "execution_count": 8,
     "metadata": {},
     "output_type": "execute_result"
    }
   ],
   "source": [
    "list_1 = ['a','ab', 'astrwre']\n",
    "list_2 = ['','asa','g']\n",
    "list_combined = list_1 + list_2\n",
    "print (list_combined)\n",
    "list_combined.pop()\n",
    "print (list_combined)\n",
    "\n",
    "list_combined.sort(key=len, reverse=True)\n",
    "\n",
    "print (list_combined)\n",
    "\n",
    "list_combined.count(1)"
   ]
  },
  {
   "cell_type": "markdown",
   "metadata": {},
   "source": [
    "2.1 Tikrinant skaičius nuo 1 iki 20 , atspausdinkite skaičius, kurie dalinasi iš 3 be liekanos. Naudokite for loop ir if"
   ]
  },
  {
   "cell_type": "code",
   "execution_count": 10,
   "metadata": {},
   "outputs": [
    {
     "name": "stdout",
     "output_type": "stream",
     "text": [
      "3\n",
      "6\n",
      "9\n",
      "12\n",
      "15\n",
      "18\n"
     ]
    }
   ],
   "source": [
    "for i in range(1,21):\n",
    "    if i % 3 == 0:\n",
    "        print(i)"
   ]
  },
  {
   "cell_type": "markdown",
   "metadata": {},
   "source": [
    "2.2 Tikrinant skaičius nuo 1 iki 50, pridėkite skaičių prie sumos, jei nauja einama suma bus lyginė"
   ]
  },
  {
   "cell_type": "code",
   "execution_count": 11,
   "metadata": {},
   "outputs": [
    {
     "name": "stdout",
     "output_type": "stream",
     "text": [
      "2\n",
      "6\n",
      "12\n",
      "20\n",
      "30\n",
      "42\n",
      "56\n",
      "72\n",
      "90\n",
      "110\n",
      "132\n",
      "156\n",
      "182\n",
      "210\n",
      "240\n",
      "272\n",
      "306\n",
      "342\n",
      "380\n",
      "420\n",
      "462\n",
      "506\n",
      "552\n",
      "600\n",
      "650\n"
     ]
    }
   ],
   "source": [
    "suma = 0\n",
    "for i in range(1,51):\n",
    "    if (suma + i) % 2 == 0:\n",
    "        suma += i\n",
    "        print(suma)"
   ]
  },
  {
   "cell_type": "markdown",
   "metadata": {},
   "source": [
    "3\\. Leiskite vartotojui pasirinkti skaičių, atspausdinkite jo sandaugą nuo 1 iki 10 tik tada, jei pasirinktas skaičius pakeltas kvadratu yra nelyginis"
   ]
  },
  {
   "cell_type": "code",
   "execution_count": 13,
   "metadata": {},
   "outputs": [
    {
     "name": "stdout",
     "output_type": "stream",
     "text": [
      "5\n",
      "10\n",
      "15\n",
      "20\n",
      "25\n",
      "30\n",
      "35\n",
      "40\n",
      "45\n",
      "50\n"
     ]
    }
   ],
   "source": [
    "pasirinktas_skaicius = int( input('iveskite skaiciu') )\n",
    "\n",
    "if (pasirinktas_skaicius ** 2) % 2 != 0:\n",
    "    for i in range(1,11):\n",
    "        print (i * pasirinktas_skaicius)\n",
    "else:\n",
    "    print ('pasirinktas skaičius pakeltas kvadratu yra lyginis')"
   ]
  },
  {
   "cell_type": "markdown",
   "metadata": {},
   "source": [
    "4\\. Gaukite visas įmanomas kombinacijas iš pateiktų sąrašų tik tada, jei diena yra arba pirmadienis arba trečiadienis, o valandos yra nuo 12 iki 17, įrašykite jas į list’ą"
   ]
  },
  {
   "cell_type": "code",
   "execution_count": 17,
   "metadata": {},
   "outputs": [
    {
     "name": "stdout",
     "output_type": "stream",
     "text": [
      "[('Pirmadienis', 12), ('Pirmadienis', 13), ('Pirmadienis', 14), ('Pirmadienis', 15), ('Pirmadienis', 16), ('Pirmadienis', 17), ('Treciadienis', 12), ('Treciadienis', 13), ('Treciadienis', 14), ('Treciadienis', 15), ('Treciadienis', 16), ('Treciadienis', 17)]\n"
     ]
    }
   ],
   "source": [
    "dienos = ('Pirmadienis', 'Antradienis', 'Treciadienis','Ketvirtadienis', 'Penktadienis', 'Sestadienis' , 'Sekmadienis')\n",
    "valandos = [10, 11, 12, 13, 14, 15, 16, 17, 18, 19]\n",
    "\n",
    "tinkamos_dienos = [ 'Pirmadienis', 'Treciadienis' ]\n",
    "tinkamos_valandos = [ 12, 13, 14, 15, 16, 17 ]\n",
    "\n",
    "kombinacijos = []\n",
    "for diena in dienos:\n",
    "    # if diena == 'Pirmadienis' or diena == 'Treciadienis':\n",
    "    if diena in tinkamos_dienos:\n",
    "        for valanda in valandos:\n",
    "            if valanda in tinkamos_valandos:\n",
    "                kombinacijos.append( (diena, valanda) )\n",
    "\n",
    "print (kombinacijos)"
   ]
  },
  {
   "cell_type": "markdown",
   "metadata": {},
   "source": [
    "5\\. Iš pirmų 100 skaičių, jeigu skaičius dalinasi iš 2 be liekanos, atspausdinkite ‘Fizz’, jeigu skaičius dalinasi iš 3 be liekanos atspausdinkite ‘Buzz’, jei skaičius dalinasi iš 2 ir 3 be liekanos, atspausdinkite ‘FizzBuzz’"
   ]
  },
  {
   "cell_type": "code",
   "execution_count": null,
   "metadata": {},
   "outputs": [],
   "source": [
    "# wrong\n",
    "for i in range(1,101):\n",
    "    if i % 2 == 0:\n",
    "        print (f' {i} - Fizz')\n",
    "    elif i % 3 == 0:\n",
    "        print (f' {i} - Buzz')\n",
    "    elif i % 2 == 0 and i % 3 == 0:\n",
    "        print (f' {i} - FizzBuzz')"
   ]
  },
  {
   "cell_type": "code",
   "execution_count": null,
   "metadata": {},
   "outputs": [],
   "source": [
    "# good\n",
    "for i in range(1,101):\n",
    "    if i % 2 == 0 and i % 3 == 0:\n",
    "        print (f' {i} - FizzBuzz')\n",
    "    elif i % 3 == 0:\n",
    "        print (f' {i} - Buzz')\n",
    "    elif i % 2 == 0:\n",
    "        print (f' {i} - Fizz')\n",
    "    else:\n",
    "        print (i)"
   ]
  },
  {
   "cell_type": "code",
   "execution_count": 21,
   "metadata": {},
   "outputs": [
    {
     "name": "stdout",
     "output_type": "stream",
     "text": [
      " 1 - \n",
      " 2 - Fizz\n",
      " 3 - Buzz\n",
      " 4 - Fizz\n",
      " 5 - \n",
      " 6 - FizzBuzz\n",
      " 7 - \n",
      " 8 - Fizz\n",
      " 9 - Buzz\n",
      " 10 - Fizz\n",
      " 11 - \n",
      " 12 - FizzBuzz\n",
      " 13 - \n",
      " 14 - Fizz\n",
      " 15 - Buzz\n",
      " 16 - Fizz\n",
      " 17 - \n",
      " 18 - FizzBuzz\n",
      " 19 - \n",
      " 20 - Fizz\n",
      " 21 - Buzz\n",
      " 22 - Fizz\n",
      " 23 - \n",
      " 24 - FizzBuzz\n",
      " 25 - \n",
      " 26 - Fizz\n",
      " 27 - Buzz\n",
      " 28 - Fizz\n",
      " 29 - \n",
      " 30 - FizzBuzz\n",
      " 31 - \n",
      " 32 - Fizz\n",
      " 33 - Buzz\n",
      " 34 - Fizz\n",
      " 35 - \n",
      " 36 - FizzBuzz\n",
      " 37 - \n",
      " 38 - Fizz\n",
      " 39 - Buzz\n",
      " 40 - Fizz\n",
      " 41 - \n",
      " 42 - FizzBuzz\n",
      " 43 - \n",
      " 44 - Fizz\n",
      " 45 - Buzz\n",
      " 46 - Fizz\n",
      " 47 - \n",
      " 48 - FizzBuzz\n",
      " 49 - \n",
      " 50 - Fizz\n",
      " 51 - Buzz\n",
      " 52 - Fizz\n",
      " 53 - \n",
      " 54 - FizzBuzz\n",
      " 55 - \n",
      " 56 - Fizz\n",
      " 57 - Buzz\n",
      " 58 - Fizz\n",
      " 59 - \n",
      " 60 - FizzBuzz\n",
      " 61 - \n",
      " 62 - Fizz\n",
      " 63 - Buzz\n",
      " 64 - Fizz\n",
      " 65 - \n",
      " 66 - FizzBuzz\n",
      " 67 - \n",
      " 68 - Fizz\n",
      " 69 - Buzz\n",
      " 70 - Fizz\n",
      " 71 - \n",
      " 72 - FizzBuzz\n",
      " 73 - \n",
      " 74 - Fizz\n",
      " 75 - Buzz\n",
      " 76 - Fizz\n",
      " 77 - \n",
      " 78 - FizzBuzz\n",
      " 79 - \n",
      " 80 - Fizz\n",
      " 81 - Buzz\n",
      " 82 - Fizz\n",
      " 83 - \n",
      " 84 - FizzBuzz\n",
      " 85 - \n",
      " 86 - Fizz\n",
      " 87 - Buzz\n",
      " 88 - Fizz\n",
      " 89 - \n",
      " 90 - FizzBuzz\n",
      " 91 - \n",
      " 92 - Fizz\n",
      " 93 - Buzz\n",
      " 94 - Fizz\n",
      " 95 - \n",
      " 96 - FizzBuzz\n",
      " 97 - \n",
      " 98 - Fizz\n",
      " 99 - Buzz\n",
      " 100 - Fizz\n"
     ]
    }
   ],
   "source": [
    "for i in range(1,101):\n",
    "    result = ''\n",
    "    if i % 2 == 0:\n",
    "        result += 'Fizz'\n",
    "    if i % 3 == 0:\n",
    "        result += 'Buzz'\n",
    "    print(f' {i} - {result}')"
   ]
  },
  {
   "cell_type": "markdown",
   "metadata": {},
   "source": [
    "6\\. Leiskite vartotojui pasirinkti skaičių, jeigu įvestas skaičius yra daugiau arba lygus 10, atspausdinkite visus skaičius nuo 1 iki pateikto skaičiaus, kurie dalinasi iš 5 su liekana"
   ]
  },
  {
   "cell_type": "code",
   "execution_count": 26,
   "metadata": {},
   "outputs": [
    {
     "name": "stdout",
     "output_type": "stream",
     "text": [
      "1\n",
      "for cikle\n",
      "2\n",
      "for cikle\n",
      "3\n",
      "for cikle\n",
      "4\n",
      "for cikle\n",
      "for cikle\n",
      "6\n",
      "for cikle\n",
      "7\n",
      "for cikle\n",
      "8\n",
      "for cikle\n",
      "9\n",
      "for cikle\n",
      "for cikle\n",
      "11\n",
      "for cikle\n",
      "cia\n"
     ]
    }
   ],
   "source": [
    "pasirinktas_skaicius = int( input('iveskite skaiciu') )\n",
    "\n",
    "if pasirinktas_skaicius >= 10:\n",
    "    for i in range(1, pasirinktas_skaicius + 1):\n",
    "        if i % 5 != 0:\n",
    "            print (i)\n",
    "        print ('for cikle')\n",
    "    print ('cia')\n",
    "else: \n",
    "    print (f'skaicius {pasirinktas_skaicius} mazesnis uz 10')"
   ]
  },
  {
   "cell_type": "code",
   "execution_count": 31,
   "metadata": {},
   "outputs": [
    {
     "ename": "TypeError",
     "evalue": "'int' object is not callable",
     "output_type": "error",
     "traceback": [
      "\u001b[1;31m---------------------------------------------------------------------------\u001b[0m",
      "\u001b[1;31mTypeError\u001b[0m                                 Traceback (most recent call last)",
      "\u001b[1;32mc:\\Users\\Robotux\\Documents\\Python\\20220830VCSPYTVAK\\lesson_4.ipynb Cell 19\u001b[0m in \u001b[0;36m<module>\u001b[1;34m\u001b[0m\n\u001b[0;32m      <a href='vscode-notebook-cell:/c%3A/Users/Robotux/Documents/Python/20220830VCSPYTVAK/lesson_4.ipynb#X30sZmlsZQ%3D%3D?line=0'>1</a>\u001b[0m \u001b[39m# skacius  = int\u001b[39;00m\n\u001b[0;32m      <a href='vscode-notebook-cell:/c%3A/Users/Robotux/Documents/Python/20220830VCSPYTVAK/lesson_4.ipynb#X30sZmlsZQ%3D%3D?line=1'>2</a>\u001b[0m \u001b[39m# skacius.append()\u001b[39;00m\n\u001b[0;32m      <a href='vscode-notebook-cell:/c%3A/Users/Robotux/Documents/Python/20220830VCSPYTVAK/lesson_4.ipynb#X30sZmlsZQ%3D%3D?line=3'>4</a>\u001b[0m \u001b[39mint\u001b[39m \u001b[39m=\u001b[39m \u001b[39m5\u001b[39m\n\u001b[1;32m----> <a href='vscode-notebook-cell:/c%3A/Users/Robotux/Documents/Python/20220830VCSPYTVAK/lesson_4.ipynb#X30sZmlsZQ%3D%3D?line=4'>5</a>\u001b[0m \u001b[39mint\u001b[39;49m(\u001b[39m'\u001b[39;49m\u001b[39m5\u001b[39;49m\u001b[39m'\u001b[39;49m)\n",
      "\u001b[1;31mTypeError\u001b[0m: 'int' object is not callable"
     ]
    }
   ],
   "source": [
    "# skacius  = int\n",
    "# skacius.append()\n",
    "\n",
    "# int = 5 # klaida\n",
    "int('5')"
   ]
  },
  {
   "cell_type": "code",
   "execution_count": 1,
   "metadata": {},
   "outputs": [
    {
     "data": {
      "text/plain": [
       "546"
      ]
     },
     "execution_count": 1,
     "metadata": {},
     "output_type": "execute_result"
    }
   ],
   "source": [
    "int('546')"
   ]
  },
  {
   "cell_type": "markdown",
   "metadata": {},
   "source": [
    "7\\. Koks yra sąrašo ilgis sudaryto iš pateiktų sąrašų kombinacijų, jeigu norime rasti visas įmanomas reikšmes? Išrikiuokite sąrašą nuo didžiausios iki mažiausios reikšmės (teks atlikti papildomų veiksmų tam atlikti teisingai, naudoti viena iš 3 narių rikiavimui)"
   ]
  },
  {
   "cell_type": "code",
   "execution_count": 3,
   "metadata": {},
   "outputs": [
    {
     "name": "stdout",
     "output_type": "stream",
     "text": [
      "[100, 200, 40, 10]\n",
      "[('1', 'labas', 100), ('1', 'labas', 200), ('1', 'labas', 40), ('1', 'labas', 10), ('1', 'vakaras', 100), ('1', 'vakaras', 200), ('1', 'vakaras', 40), ('1', 'vakaras', 10), ('1', 'kokia grazi diena', 100), ('1', 'kokia grazi diena', 200), ('1', 'kokia grazi diena', 40), ('1', 'kokia grazi diena', 10), ('1', 'siandien uz lango', 100), ('1', 'siandien uz lango', 200), ('1', 'siandien uz lango', 40), ('1', 'siandien uz lango', 10), ('1', '10 laipsniu silumos', 100), ('1', '10 laipsniu silumos', 200), ('1', '10 laipsniu silumos', 40), ('1', '10 laipsniu silumos', 10), ('2', 'labas', 100), ('2', 'labas', 200), ('2', 'labas', 40), ('2', 'labas', 10), ('2', 'vakaras', 100), ('2', 'vakaras', 200), ('2', 'vakaras', 40), ('2', 'vakaras', 10), ('2', 'kokia grazi diena', 100), ('2', 'kokia grazi diena', 200), ('2', 'kokia grazi diena', 40), ('2', 'kokia grazi diena', 10), ('2', 'siandien uz lango', 100), ('2', 'siandien uz lango', 200), ('2', 'siandien uz lango', 40), ('2', 'siandien uz lango', 10), ('2', '10 laipsniu silumos', 100), ('2', '10 laipsniu silumos', 200), ('2', '10 laipsniu silumos', 40), ('2', '10 laipsniu silumos', 10), ('3', 'labas', 100), ('3', 'labas', 200), ('3', 'labas', 40), ('3', 'labas', 10), ('3', 'vakaras', 100), ('3', 'vakaras', 200), ('3', 'vakaras', 40), ('3', 'vakaras', 10), ('3', 'kokia grazi diena', 100), ('3', 'kokia grazi diena', 200), ('3', 'kokia grazi diena', 40), ('3', 'kokia grazi diena', 10), ('3', 'siandien uz lango', 100), ('3', 'siandien uz lango', 200), ('3', 'siandien uz lango', 40), ('3', 'siandien uz lango', 10), ('3', '10 laipsniu silumos', 100), ('3', '10 laipsniu silumos', 200), ('3', '10 laipsniu silumos', 40), ('3', '10 laipsniu silumos', 10), ('4', 'labas', 100), ('4', 'labas', 200), ('4', 'labas', 40), ('4', 'labas', 10), ('4', 'vakaras', 100), ('4', 'vakaras', 200), ('4', 'vakaras', 40), ('4', 'vakaras', 10), ('4', 'kokia grazi diena', 100), ('4', 'kokia grazi diena', 200), ('4', 'kokia grazi diena', 40), ('4', 'kokia grazi diena', 10), ('4', 'siandien uz lango', 100), ('4', 'siandien uz lango', 200), ('4', 'siandien uz lango', 40), ('4', 'siandien uz lango', 10), ('4', '10 laipsniu silumos', 100), ('4', '10 laipsniu silumos', 200), ('4', '10 laipsniu silumos', 40), ('4', '10 laipsniu silumos', 10), ('5', 'labas', 100), ('5', 'labas', 200), ('5', 'labas', 40), ('5', 'labas', 10), ('5', 'vakaras', 100), ('5', 'vakaras', 200), ('5', 'vakaras', 40), ('5', 'vakaras', 10), ('5', 'kokia grazi diena', 100), ('5', 'kokia grazi diena', 200), ('5', 'kokia grazi diena', 40), ('5', 'kokia grazi diena', 10), ('5', 'siandien uz lango', 100), ('5', 'siandien uz lango', 200), ('5', 'siandien uz lango', 40), ('5', 'siandien uz lango', 10), ('5', '10 laipsniu silumos', 100), ('5', '10 laipsniu silumos', 200), ('5', '10 laipsniu silumos', 40), ('5', '10 laipsniu silumos', 10)]\n"
     ]
    }
   ],
   "source": [
    "a = ['1','2','3','4','5']\n",
    "b = ['labas', 'vakaras', 'kokia grazi diena', 'siandien uz lango', '10 laipsniu silumos']\n",
    "c = ['100', '200', 40, 10]\n",
    "c[0] = 100\n",
    "c[1] = 200\n",
    "# print(c)\n",
    "\n",
    "kombinacijos = []\n",
    "for pirmas in a:\n",
    "    for antras in b:\n",
    "        for trecias in c:\n",
    "            kombinacijos.append( (pirmas, antras, trecias) )\n",
    "\n",
    "print(kombinacijos)"
   ]
  },
  {
   "cell_type": "code",
   "execution_count": null,
   "metadata": {},
   "outputs": [],
   "source": []
  }
 ],
 "metadata": {
  "kernelspec": {
   "display_name": "Python 3.10.2 64-bit",
   "language": "python",
   "name": "python3"
  },
  "language_info": {
   "codemirror_mode": {
    "name": "ipython",
    "version": 3
   },
   "file_extension": ".py",
   "mimetype": "text/x-python",
   "name": "python",
   "nbconvert_exporter": "python",
   "pygments_lexer": "ipython3",
   "version": "3.10.2"
  },
  "orig_nbformat": 4,
  "vscode": {
   "interpreter": {
    "hash": "db50a459ab6695ace3368e8957af3456c8c93e92d9fe6c38987133d01669da40"
   }
  }
 },
 "nbformat": 4,
 "nbformat_minor": 2
}
