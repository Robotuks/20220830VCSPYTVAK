{
 "cells": [
  {
   "cell_type": "markdown",
   "metadata": {},
   "source": [
    "# Namų darbai 2"
   ]
  },
  {
   "cell_type": "markdown",
   "metadata": {},
   "source": [
    "1. Rasti pasikartojančius elementus tarp dviejų list'ų  \n",
    "a = [1,2,3,4,5,6,7,8,9,15]  \n",
    "b = [3,8,9,11,15]  \n",
    "Gauti rezultatą c = [3,8,9,15] nes šie skaičiai pasikartoja abiejuose listuose  \n"
   ]
  },
  {
   "cell_type": "code",
   "execution_count": 2,
   "metadata": {},
   "outputs": [
    {
     "name": "stdout",
     "output_type": "stream",
     "text": [
      "[8, 9, 3, 15]\n"
     ]
    }
   ],
   "source": [
    "a = [1,2,3,4,5,6,7,8,9,15]  \n",
    "b = [3,8,9,11,15]\n",
    "\n",
    "a = set( a )\n",
    "b = set( b )\n",
    "c = list( a.intersection( b ) )\n",
    "print( c )"
   ]
  },
  {
   "cell_type": "code",
   "execution_count": 3,
   "metadata": {},
   "outputs": [
    {
     "name": "stdout",
     "output_type": "stream",
     "text": [
      "[8, 9, 3, 15]\n"
     ]
    }
   ],
   "source": [
    "a = [1,2,3,4,5,6,7,8,9,15]  \n",
    "b = [3,8,9,11,15]\n",
    "\n",
    "c = list( set(a).intersection(b) )\n",
    "print (c)"
   ]
  },
  {
   "cell_type": "markdown",
   "metadata": {},
   "source": [
    "2. Išfiltruoti unikalius teigiamus numeris iš sąrašo  \n",
    "x = [1, 5, 1, 2, 8, -9, 10, 1, -8, -900, 14, 5, -8, 2, 1, -20, 900, 800, -6, -8, 12, 1]  "
   ]
  },
  {
   "cell_type": "code",
   "execution_count": 7,
   "metadata": {},
   "outputs": [
    {
     "name": "stdout",
     "output_type": "stream",
     "text": [
      "{800, 1, 2, 900, 5, 8, 10, -20, 12, 14, -9, -8, -6, -900}\n",
      "[800, 1, 2, 900, 5, 8, 10, 12, 14]\n"
     ]
    }
   ],
   "source": [
    "x = [1, 5, 1, 2, 8, -9, 10, 1, -8, -900, 14, 5, -8, 2, 1, -20, 900, 800, -6, -8, 12, 1]\n",
    "\n",
    "x = set(x)\n",
    "print (x)\n",
    "result = [ number for number in x if number > 0 ]\n",
    "print (result)"
   ]
  },
  {
   "cell_type": "markdown",
   "metadata": {},
   "source": [
    "3. Paskaičiuoti pelną pardavus visas prekes. Informacija apie kainą ir kiekius yra pateikiama kaip dictionary, atsakymą suapvalinti iki 2 skaičių po kablelio.\n"
   ]
  },
  {
   "cell_type": "code",
   "execution_count": 11,
   "metadata": {},
   "outputs": [
    {
     "name": "stdout",
     "output_type": "stream",
     "text": [
      "14943.96\n",
      "pelnas: 14943.96\n"
     ]
    }
   ],
   "source": [
    "x = { \"cost_price\": 32.67,\n",
    "         \"sell_price\": 45.00,\n",
    "          \"inventory\": 1212  }\n",
    "\n",
    "profit = (x[\"sell_price\"] - x[\"cost_price\"]) * x[\"inventory\"]\n",
    "rounded_profit = round( profit, 2 )\n",
    "print ( rounded_profit )\n",
    "print(f'pelnas: {profit:.2f}')"
   ]
  },
  {
   "cell_type": "markdown",
   "metadata": {},
   "source": [
    "4. Leiskite įvesti 10 žodžių, programa turi atsakyti į tokius klausimus:  \n",
    "- Kiek žodžių yra ilgesnių nei 10 simbolių  \n",
    "- Kuris žodis yra ilgiausias ir trumpiausias  \n",
    "- Ar nors vienas žodis yra palindromas, jei taip, koks arba kokie tai žodžiai\n",
    "\n",
    "Palindromas - atvirkščiai skaitant žodį, gaunasi tas pats žodis.  \n",
    "savas -> savas  "
   ]
  },
  {
   "cell_type": "code",
   "execution_count": 16,
   "metadata": {},
   "outputs": [
    {
     "name": "stdout",
     "output_type": "stream",
     "text": [
      "['kompiuteriskompiuteris']\n",
      "ilgiausias zodis: kompiuteris\n",
      "trumpiausias zodis: as\n",
      "['savas']\n"
     ]
    }
   ],
   "source": [
    "zodziai = ['as', 'savas', 'kompiuteris', 'obuolis', 'morka', 'pele', 'namas', 'konkorezis', 'internetas']\n",
    "\n",
    "ilgi_zodziai = [ zodis for zodis in zodziai if len( zodis ) > 10 ]\n",
    "print (ilgi_zodziai)\n",
    "ilgiausias_zodis = max( zodziai, key=lambda zodis: len(zodis) )\n",
    "trumpiausias_zodis = min( zodziai, key=lambda zodis: len(zodis) )\n",
    "print (f'ilgiausias zodis: {ilgiausias_zodis}')\n",
    "print (f'trumpiausias zodis: {trumpiausias_zodis}')\n",
    "\n",
    "polindromai = [ zodis for zodis in zodziai if zodis == zodis[::-1] ]\n",
    "print (polindromai)"
   ]
  },
  {
   "cell_type": "code",
   "execution_count": 15,
   "metadata": {},
   "outputs": [
    {
     "name": "stdout",
     "output_type": "stream",
     "text": [
      "['kompiuteris']\n",
      "ilgiausias zodis: kompiuteris\n",
      "trumpiausias zodis: as\n",
      "['savas']\n"
     ]
    }
   ],
   "source": [
    "zodziai = ['as', 'savas', 'kompiuteris', 'obuolis', 'morka', 'pele', 'namas', 'konkorezis', 'internetas']\n",
    "\n",
    "ilgi_zodziai = []\n",
    "polindromai = []\n",
    "\n",
    "for zodis in zodziai:\n",
    "    if len( zodis ) > 10:\n",
    "        ilgi_zodziai.append(zodis)\n",
    "    if zodis == zodis[::-1]:\n",
    "        polindromai.append(zodis)\n",
    "\n",
    "ilgiausias_zodis = max( zodziai, key=lambda zodis: len(zodis) )\n",
    "trumpiausias_zodis = min( zodziai, key=lambda zodis: len(zodis) )\n",
    "print (ilgi_zodziai)\n",
    "print (f'ilgiausias zodis: {ilgiausias_zodis}')\n",
    "print (f'trumpiausias zodis: {trumpiausias_zodis}')\n",
    "print (polindromai)"
   ]
  },
  {
   "cell_type": "markdown",
   "metadata": {},
   "source": [
    "5. Turėdami list’ą, gaukite didžiausią šalia esančių skaičių sandaugą"
   ]
  },
  {
   "cell_type": "code",
   "execution_count": 19,
   "metadata": {},
   "outputs": [
    {
     "name": "stdout",
     "output_type": "stream",
     "text": [
      "indeksas yra 0, po siuo indeksu yra reiksme 3, sekanti reiksme su indeksu 1 yra 6\n",
      "indeksas yra 1, po siuo indeksu yra reiksme 6, sekanti reiksme su indeksu 2 yra -2\n",
      "indeksas yra 2, po siuo indeksu yra reiksme -2, sekanti reiksme su indeksu 3 yra -5\n",
      "indeksas yra 3, po siuo indeksu yra reiksme -5, sekanti reiksme su indeksu 4 yra 7\n",
      "indeksas yra 4, po siuo indeksu yra reiksme 7, sekanti reiksme su indeksu 5 yra 3\n",
      "21\n"
     ]
    }
   ],
   "source": [
    "my_list = [3, 6, -2, -5, 7, 3]\n",
    "\n",
    "sandauga = 1\n",
    "for i in range(len(my_list) - 1 ):\n",
    "    print(f'indeksas yra {i}, po siuo indeksu yra reiksme {my_list[i] }, sekanti reiksme su indeksu {i + 1} yra { my_list[i + 1] }' )\n",
    "    if sandauga < my_list[i] * my_list[i + 1]:\n",
    "        sandauga = my_list[i] * my_list[i + 1]\n",
    "\n",
    "print(sandauga)"
   ]
  },
  {
   "cell_type": "code",
   "execution_count": 24,
   "metadata": {},
   "outputs": [
    {
     "name": "stdout",
     "output_type": "stream",
     "text": [
      "[3, 6, -2, -5, 7]\n",
      "[6, -2, -5, 7, 3]\n",
      "sk_1: 3, sk_2: 6\n",
      "sk_1: 6, sk_2: -2\n",
      "sk_1: -2, sk_2: -5\n",
      "sk_1: -5, sk_2: 7\n",
      "sk_1: 7, sk_2: 3\n",
      "21\n"
     ]
    }
   ],
   "source": [
    "my_list = [3, 6, -2, -5, 7, 3]\n",
    "\n",
    "sandauga = 1\n",
    "print (my_list[:-1])\n",
    "print (my_list[1:]) # [ start:end:step ]\n",
    "for skaicius_1, skaicius_2 in zip( my_list[:-1], my_list[1:] ):\n",
    "    print(f'sk_1: {skaicius_1}, sk_2: {skaicius_2}')\n",
    "    if sandauga < skaicius_1 * skaicius_2:\n",
    "        sandauga = skaicius_1 * skaicius_2\n",
    "\n",
    "print(sandauga)"
   ]
  },
  {
   "cell_type": "code",
   "execution_count": 27,
   "metadata": {},
   "outputs": [
    {
     "name": "stdout",
     "output_type": "stream",
     "text": [
      "[(3, 6), (6, -2), (-2, -5), (-5, 7), (7, 3)]\n",
      "(3, 6)\n",
      "(6, -2)\n",
      "(-2, -5)\n",
      "(-5, 7)\n",
      "(7, 3)\n"
     ]
    }
   ],
   "source": [
    "print (list( zip( my_list[:-1], my_list[1:] ) ) )\n",
    "\n",
    "for kaimyniniai_skaiciai in zip( my_list[:-1], my_list[1:] ):\n",
    "    print(kaimyniniai_skaiciai)"
   ]
  },
  {
   "cell_type": "code",
   "execution_count": 29,
   "metadata": {},
   "outputs": [
    {
     "ename": "ValueError",
     "evalue": "not enough values to unpack (expected 3, got 2)",
     "output_type": "error",
     "traceback": [
      "\u001b[1;31m---------------------------------------------------------------------------\u001b[0m",
      "\u001b[1;31mValueError\u001b[0m                                Traceback (most recent call last)",
      "\u001b[1;32mc:\\Users\\Robotux\\Documents\\Python\\20220830VCSPYTVAK\\lesson_6.ipynb Cell 16\u001b[0m in \u001b[0;36m<module>\u001b[1;34m\u001b[0m\n\u001b[1;32m----> <a href='vscode-notebook-cell:/c%3A/Users/Robotux/Documents/Python/20220830VCSPYTVAK/lesson_6.ipynb#X24sZmlsZQ%3D%3D?line=0'>1</a>\u001b[0m \u001b[39mfor\u001b[39;00m skaicius_1, skaicius_2, sk_3 \u001b[39min\u001b[39;00m \u001b[39mzip\u001b[39m( my_list[:\u001b[39m-\u001b[39m\u001b[39m1\u001b[39m], my_list[\u001b[39m1\u001b[39m:] ):\n\u001b[0;32m      <a href='vscode-notebook-cell:/c%3A/Users/Robotux/Documents/Python/20220830VCSPYTVAK/lesson_6.ipynb#X24sZmlsZQ%3D%3D?line=1'>2</a>\u001b[0m     \u001b[39mprint\u001b[39m()\n",
      "\u001b[1;31mValueError\u001b[0m: not enough values to unpack (expected 3, got 2)"
     ]
    }
   ],
   "source": [
    "for skaicius_1, skaicius_2, sk_3 in zip( my_list[:-1], my_list[1:] ):\n",
    "    print()"
   ]
  },
  {
   "cell_type": "markdown",
   "metadata": {},
   "source": [
    "# Klaidų valdymas"
   ]
  },
  {
   "cell_type": "code",
   "execution_count": 30,
   "metadata": {},
   "outputs": [],
   "source": [
    "# isikeliam visa biblioteka\n",
    "import math"
   ]
  },
  {
   "cell_type": "code",
   "execution_count": 31,
   "metadata": {},
   "outputs": [
    {
     "data": {
      "text/plain": [
       "1.5707963267948966"
      ]
     },
     "execution_count": 31,
     "metadata": {},
     "output_type": "execute_result"
    }
   ],
   "source": [
    "math.radians(90)"
   ]
  },
  {
   "cell_type": "code",
   "execution_count": 32,
   "metadata": {},
   "outputs": [
    {
     "data": {
      "text/plain": [
       "1.5707963267948966"
      ]
     },
     "execution_count": 32,
     "metadata": {},
     "output_type": "execute_result"
    }
   ],
   "source": [
    "from math import radians\n",
    "radians(90)"
   ]
  },
  {
   "cell_type": "code",
   "execution_count": 34,
   "metadata": {},
   "outputs": [
    {
     "ename": "ImportError",
     "evalue": "cannot import name 'cube' from 'math' (unknown location)",
     "output_type": "error",
     "traceback": [
      "\u001b[1;31m---------------------------------------------------------------------------\u001b[0m",
      "\u001b[1;31mImportError\u001b[0m                               Traceback (most recent call last)",
      "\u001b[1;32mc:\\Users\\Robotux\\Documents\\Python\\20220830VCSPYTVAK\\lesson_6.ipynb Cell 21\u001b[0m in \u001b[0;36m<module>\u001b[1;34m\u001b[0m\n\u001b[1;32m----> <a href='vscode-notebook-cell:/c%3A/Users/Robotux/Documents/Python/20220830VCSPYTVAK/lesson_6.ipynb#X30sZmlsZQ%3D%3D?line=0'>1</a>\u001b[0m \u001b[39mfrom\u001b[39;00m \u001b[39mmath\u001b[39;00m \u001b[39mimport\u001b[39;00m cube\n",
      "\u001b[1;31mImportError\u001b[0m: cannot import name 'cube' from 'math' (unknown location)"
     ]
    }
   ],
   "source": [
    "from math import cube\n",
    "# gali funkcija neegzituoti po bibliotekos atnaujinimo"
   ]
  },
  {
   "cell_type": "code",
   "execution_count": 38,
   "metadata": {},
   "outputs": [
    {
     "name": "stdout",
     "output_type": "stream",
     "text": [
      "1\n",
      "4\n"
     ]
    },
    {
     "ename": "StopIteration",
     "evalue": "",
     "output_type": "error",
     "traceback": [
      "\u001b[1;31m---------------------------------------------------------------------------\u001b[0m",
      "\u001b[1;31mStopIteration\u001b[0m                             Traceback (most recent call last)",
      "\u001b[1;32mc:\\Users\\Robotux\\Documents\\Python\\20220830VCSPYTVAK\\lesson_6.ipynb Cell 22\u001b[0m in \u001b[0;36m<module>\u001b[1;34m\u001b[0m\n\u001b[0;32m      <a href='vscode-notebook-cell:/c%3A/Users/Robotux/Documents/Python/20220830VCSPYTVAK/lesson_6.ipynb#X31sZmlsZQ%3D%3D?line=1'>2</a>\u001b[0m \u001b[39mprint\u001b[39m (\u001b[39mnext\u001b[39m(it))\n\u001b[0;32m      <a href='vscode-notebook-cell:/c%3A/Users/Robotux/Documents/Python/20220830VCSPYTVAK/lesson_6.ipynb#X31sZmlsZQ%3D%3D?line=2'>3</a>\u001b[0m \u001b[39mprint\u001b[39m (\u001b[39mnext\u001b[39m(it))\n\u001b[1;32m----> <a href='vscode-notebook-cell:/c%3A/Users/Robotux/Documents/Python/20220830VCSPYTVAK/lesson_6.ipynb#X31sZmlsZQ%3D%3D?line=3'>4</a>\u001b[0m \u001b[39mprint\u001b[39m (\u001b[39mnext\u001b[39;49m(it))\n",
      "\u001b[1;31mStopIteration\u001b[0m: "
     ]
    }
   ],
   "source": [
    "it = iter([1,4])\n",
    "print (next(it))\n",
    "print (next(it))\n",
    "print (next(it))"
   ]
  },
  {
   "cell_type": "markdown",
   "metadata": {},
   "source": [
    "## Klaidų sukėlimas (raise)"
   ]
  },
  {
   "cell_type": "code",
   "execution_count": 40,
   "metadata": {},
   "outputs": [
    {
     "name": "stdout",
     "output_type": "stream",
     "text": [
      "7\n"
     ]
    },
    {
     "ename": "ValueError",
     "evalue": "Argument \"b\" must be an integer ",
     "output_type": "error",
     "traceback": [
      "\u001b[1;31m---------------------------------------------------------------------------\u001b[0m",
      "\u001b[1;31mValueError\u001b[0m                                Traceback (most recent call last)",
      "\u001b[1;32mc:\\Users\\Robotux\\Documents\\Python\\20220830VCSPYTVAK\\lesson_6.ipynb Cell 24\u001b[0m in \u001b[0;36m<module>\u001b[1;34m\u001b[0m\n\u001b[0;32m      <a href='vscode-notebook-cell:/c%3A/Users/Robotux/Documents/Python/20220830VCSPYTVAK/lesson_6.ipynb#X33sZmlsZQ%3D%3D?line=6'>7</a>\u001b[0m     \u001b[39mreturn\u001b[39;00m a \u001b[39m+\u001b[39m b\n\u001b[0;32m      <a href='vscode-notebook-cell:/c%3A/Users/Robotux/Documents/Python/20220830VCSPYTVAK/lesson_6.ipynb#X33sZmlsZQ%3D%3D?line=8'>9</a>\u001b[0m \u001b[39mprint\u001b[39m(add_numbers(\u001b[39m2\u001b[39m,\u001b[39m5\u001b[39m) )\n\u001b[1;32m---> <a href='vscode-notebook-cell:/c%3A/Users/Robotux/Documents/Python/20220830VCSPYTVAK/lesson_6.ipynb#X33sZmlsZQ%3D%3D?line=9'>10</a>\u001b[0m \u001b[39mprint\u001b[39m(add_numbers(\u001b[39m5\u001b[39;49m, \u001b[39m'\u001b[39;49m\u001b[39m210\u001b[39;49m\u001b[39m'\u001b[39;49m) )\n",
      "\u001b[1;32mc:\\Users\\Robotux\\Documents\\Python\\20220830VCSPYTVAK\\lesson_6.ipynb Cell 24\u001b[0m in \u001b[0;36madd_numbers\u001b[1;34m(a, b)\u001b[0m\n\u001b[0;32m      <a href='vscode-notebook-cell:/c%3A/Users/Robotux/Documents/Python/20220830VCSPYTVAK/lesson_6.ipynb#X33sZmlsZQ%3D%3D?line=2'>3</a>\u001b[0m     \u001b[39mraise\u001b[39;00m \u001b[39mValueError\u001b[39;00m(\u001b[39m'\u001b[39m\u001b[39mArgument \u001b[39m\u001b[39m\"\u001b[39m\u001b[39ma\u001b[39m\u001b[39m\"\u001b[39m\u001b[39m must be an integer \u001b[39m\u001b[39m'\u001b[39m)\n\u001b[0;32m      <a href='vscode-notebook-cell:/c%3A/Users/Robotux/Documents/Python/20220830VCSPYTVAK/lesson_6.ipynb#X33sZmlsZQ%3D%3D?line=3'>4</a>\u001b[0m \u001b[39mif\u001b[39;00m \u001b[39mnot\u001b[39;00m \u001b[39misinstance\u001b[39m(b, \u001b[39mint\u001b[39m):\n\u001b[1;32m----> <a href='vscode-notebook-cell:/c%3A/Users/Robotux/Documents/Python/20220830VCSPYTVAK/lesson_6.ipynb#X33sZmlsZQ%3D%3D?line=4'>5</a>\u001b[0m     \u001b[39mraise\u001b[39;00m \u001b[39mValueError\u001b[39;00m(\u001b[39m'\u001b[39m\u001b[39mArgument \u001b[39m\u001b[39m\"\u001b[39m\u001b[39mb\u001b[39m\u001b[39m\"\u001b[39m\u001b[39m must be an integer \u001b[39m\u001b[39m'\u001b[39m)\n\u001b[0;32m      <a href='vscode-notebook-cell:/c%3A/Users/Robotux/Documents/Python/20220830VCSPYTVAK/lesson_6.ipynb#X33sZmlsZQ%3D%3D?line=6'>7</a>\u001b[0m \u001b[39mreturn\u001b[39;00m a \u001b[39m+\u001b[39m b\n",
      "\u001b[1;31mValueError\u001b[0m: Argument \"b\" must be an integer "
     ]
    }
   ],
   "source": [
    "def add_numbers(a, b):\n",
    "    if not isinstance(a, int):\n",
    "        raise ValueError('Argument \"a\" must be an integer ')\n",
    "    if not isinstance(b, int):\n",
    "        raise ValueError('Argument \"b\" must be an integer ')\n",
    "    \n",
    "    return a + b\n",
    "\n",
    "print(add_numbers(2,5) )\n",
    "print(add_numbers(5, '210') )"
   ]
  },
  {
   "cell_type": "code",
   "execution_count": 41,
   "metadata": {},
   "outputs": [
    {
     "ename": "NameError",
     "evalue": "",
     "output_type": "error",
     "traceback": [
      "\u001b[1;31m---------------------------------------------------------------------------\u001b[0m",
      "\u001b[1;31mNameError\u001b[0m                                 Traceback (most recent call last)",
      "\u001b[1;32mc:\\Users\\Robotux\\Documents\\Python\\20220830VCSPYTVAK\\lesson_6.ipynb Cell 25\u001b[0m in \u001b[0;36m<module>\u001b[1;34m\u001b[0m\n\u001b[1;32m----> <a href='vscode-notebook-cell:/c%3A/Users/Robotux/Documents/Python/20220830VCSPYTVAK/lesson_6.ipynb#X42sZmlsZQ%3D%3D?line=0'>1</a>\u001b[0m \u001b[39mraise\u001b[39;00m \u001b[39mNameError\u001b[39;00m\n",
      "\u001b[1;31mNameError\u001b[0m: "
     ]
    }
   ],
   "source": [
    "raise NameError"
   ]
  },
  {
   "cell_type": "code",
   "execution_count": null,
   "metadata": {},
   "outputs": [],
   "source": [
    "raise "
   ]
  },
  {
   "cell_type": "code",
   "execution_count": 42,
   "metadata": {},
   "outputs": [
    {
     "name": "stdout",
     "output_type": "stream",
     "text": [
      "The Zen of Python, by Tim Peters\n",
      "\n",
      "Beautiful is better than ugly.\n",
      "Explicit is better than implicit.\n",
      "Simple is better than complex.\n",
      "Complex is better than complicated.\n",
      "Flat is better than nested.\n",
      "Sparse is better than dense.\n",
      "Readability counts.\n",
      "Special cases aren't special enough to break the rules.\n",
      "Although practicality beats purity.\n",
      "Errors should never pass silently.\n",
      "Unless explicitly silenced.\n",
      "In the face of ambiguity, refuse the temptation to guess.\n",
      "There should be one-- and preferably only one --obvious way to do it.\n",
      "Although that way may not be obvious at first unless you're Dutch.\n",
      "Now is better than never.\n",
      "Although never is often better than *right* now.\n",
      "If the implementation is hard to explain, it's a bad idea.\n",
      "If the implementation is easy to explain, it may be a good idea.\n",
      "Namespaces are one honking great idea -- let's do more of those!\n"
     ]
    }
   ],
   "source": [
    "import this"
   ]
  },
  {
   "cell_type": "markdown",
   "metadata": {},
   "source": [
    "## Klaidų išvengimas (try/except)"
   ]
  },
  {
   "cell_type": "code",
   "execution_count": 45,
   "metadata": {},
   "outputs": [
    {
     "ename": "NameError",
     "evalue": "name 'q' is not defined",
     "output_type": "error",
     "traceback": [
      "\u001b[1;31m---------------------------------------------------------------------------\u001b[0m",
      "\u001b[1;31mNameError\u001b[0m                                 Traceback (most recent call last)",
      "\u001b[1;32mc:\\Users\\Robotux\\Documents\\Python\\20220830VCSPYTVAK\\lesson_6.ipynb Cell 29\u001b[0m in \u001b[0;36m<module>\u001b[1;34m\u001b[0m\n\u001b[1;32m----> <a href='vscode-notebook-cell:/c%3A/Users/Robotux/Documents/Python/20220830VCSPYTVAK/lesson_6.ipynb#X45sZmlsZQ%3D%3D?line=0'>1</a>\u001b[0m \u001b[39mprint\u001b[39m(q)\n\u001b[0;32m      <a href='vscode-notebook-cell:/c%3A/Users/Robotux/Documents/Python/20220830VCSPYTVAK/lesson_6.ipynb#X45sZmlsZQ%3D%3D?line=1'>2</a>\u001b[0m \u001b[39mprint\u001b[39m (\u001b[39m'\u001b[39m\u001b[39mkodo pabaiga\u001b[39m\u001b[39m'\u001b[39m)\n",
      "\u001b[1;31mNameError\u001b[0m: name 'q' is not defined"
     ]
    }
   ],
   "source": [
    "print(q)\n",
    "print ('kodo pabaiga')"
   ]
  },
  {
   "cell_type": "code",
   "execution_count": 48,
   "metadata": {},
   "outputs": [
    {
     "name": "stdout",
     "output_type": "stream",
     "text": [
      "try pradzia\n",
      "name 'q' is not defined\n",
      "kodo pabaiga\n"
     ]
    }
   ],
   "source": [
    "try:\n",
    "    print('try pradzia')\n",
    "    print(q)\n",
    "    print('try pabaiga') # nesuveikia\n",
    "except NameError as e:\n",
    "    print (e)\n",
    "\n",
    "\n",
    "print ('kodo pabaiga')"
   ]
  },
  {
   "cell_type": "code",
   "execution_count": 49,
   "metadata": {},
   "outputs": [
    {
     "name": "stdout",
     "output_type": "stream",
     "text": [
      "try pradzia\n",
      "[1, 2, 3, 4, 5, 6, 7, 8, 9, 15]\n",
      "try pabaiga\n",
      "kodo pabaiga\n"
     ]
    }
   ],
   "source": [
    "try:\n",
    "    print('try pradzia')\n",
    "    print(a)\n",
    "    print('try pabaiga')\n",
    "except NameError as e:\n",
    "    print (e)\n",
    "\n",
    "\n",
    "print ('kodo pabaiga')"
   ]
  },
  {
   "cell_type": "code",
   "execution_count": 53,
   "metadata": {},
   "outputs": [
    {
     "name": "stdout",
     "output_type": "stream",
     "text": [
      "try pradzia\n",
      "pagauta klaida\n"
     ]
    }
   ],
   "source": [
    "try:\n",
    "    print('try pradzia')\n",
    "    print(q)\n",
    "    print('try pabaiga') # nesuveikia\n",
    "except: # AVOID THIS\n",
    "    print ('pagauta klaida')"
   ]
  },
  {
   "cell_type": "code",
   "execution_count": 55,
   "metadata": {},
   "outputs": [
    {
     "name": "stdout",
     "output_type": "stream",
     "text": [
      "try pradzia\n",
      "[1, 2, 3, 4, 5, 6, 7, 8, 9, 15]\n",
      "pagauta klaida\n"
     ]
    }
   ],
   "source": [
    "try:\n",
    "    print('try pradzia')\n",
    "    print(a)\n",
    "    print ( 5 / 0)\n",
    "    print('try pabaiga') # nesuveikia\n",
    "except: # AVOID THIS\n",
    "    print ('pagauta klaida')"
   ]
  },
  {
   "cell_type": "code",
   "execution_count": 60,
   "metadata": {},
   "outputs": [
    {
     "name": "stdout",
     "output_type": "stream",
     "text": [
      "try pradzia\n",
      "pagauta NameError klaida\n"
     ]
    }
   ],
   "source": [
    "try:\n",
    "    print('try pradzia')\n",
    "    print(q)\n",
    "    # print(a)\n",
    "    print ( 5 / 0)\n",
    "    print('try pabaiga') # nesuveikia\n",
    "except NameError as e: # DO THIS\n",
    "    print ('pagauta NameError klaida')\n",
    "except ZeroDivisionError as e: # DO THIS\n",
    "    print ('pagauta ZeroDivisionError klaida')"
   ]
  },
  {
   "cell_type": "markdown",
   "metadata": {},
   "source": [
    "## dažnu atveju galima apsieiti be try/except"
   ]
  },
  {
   "cell_type": "code",
   "execution_count": 64,
   "metadata": {},
   "outputs": [
    {
     "name": "stdout",
     "output_type": "stream",
     "text": [
      "6000000000.0\n"
     ]
    }
   ],
   "source": [
    "b = 6\n",
    "c = 0\n",
    "\n",
    "if c == 0:\n",
    "    c += 0.000000001\n",
    "v = b / c\n",
    "print (v)"
   ]
  },
  {
   "cell_type": "code",
   "execution_count": 70,
   "metadata": {},
   "outputs": [
    {
     "name": "stdout",
     "output_type": "stream",
     "text": [
      "try pradzia\n",
      "finally dalis\n"
     ]
    },
    {
     "ename": "TypeError",
     "evalue": "unsupported operand type(s) for /: 'str' and 'int'",
     "output_type": "error",
     "traceback": [
      "\u001b[1;31m---------------------------------------------------------------------------\u001b[0m",
      "\u001b[1;31mTypeError\u001b[0m                                 Traceback (most recent call last)",
      "\u001b[1;32mc:\\Users\\Robotux\\Documents\\Python\\20220830VCSPYTVAK\\lesson_6.ipynb Cell 37\u001b[0m in \u001b[0;36m<module>\u001b[1;34m\u001b[0m\n\u001b[0;32m      <a href='vscode-notebook-cell:/c%3A/Users/Robotux/Documents/Python/20220830VCSPYTVAK/lesson_6.ipynb#X54sZmlsZQ%3D%3D?line=1'>2</a>\u001b[0m     \u001b[39mprint\u001b[39m(\u001b[39m'\u001b[39m\u001b[39mtry pradzia\u001b[39m\u001b[39m'\u001b[39m)\n\u001b[0;32m      <a href='vscode-notebook-cell:/c%3A/Users/Robotux/Documents/Python/20220830VCSPYTVAK/lesson_6.ipynb#X54sZmlsZQ%3D%3D?line=2'>3</a>\u001b[0m     \u001b[39m# print(q)\u001b[39;00m\n\u001b[0;32m      <a href='vscode-notebook-cell:/c%3A/Users/Robotux/Documents/Python/20220830VCSPYTVAK/lesson_6.ipynb#X54sZmlsZQ%3D%3D?line=3'>4</a>\u001b[0m     \u001b[39m# print(a)\u001b[39;00m\n\u001b[0;32m      <a href='vscode-notebook-cell:/c%3A/Users/Robotux/Documents/Python/20220830VCSPYTVAK/lesson_6.ipynb#X54sZmlsZQ%3D%3D?line=4'>5</a>\u001b[0m     \u001b[39m# print ( 5 / 0)\u001b[39;00m\n\u001b[1;32m----> <a href='vscode-notebook-cell:/c%3A/Users/Robotux/Documents/Python/20220830VCSPYTVAK/lesson_6.ipynb#X54sZmlsZQ%3D%3D?line=5'>6</a>\u001b[0m     \u001b[39mprint\u001b[39m ( \u001b[39m'\u001b[39;49m\u001b[39m5\u001b[39;49m\u001b[39m'\u001b[39;49m \u001b[39m/\u001b[39;49m \u001b[39m0\u001b[39;49m)\n\u001b[0;32m      <a href='vscode-notebook-cell:/c%3A/Users/Robotux/Documents/Python/20220830VCSPYTVAK/lesson_6.ipynb#X54sZmlsZQ%3D%3D?line=6'>7</a>\u001b[0m     \u001b[39mprint\u001b[39m(\u001b[39m'\u001b[39m\u001b[39mtry pabaiga\u001b[39m\u001b[39m'\u001b[39m) \u001b[39m# nesuveikia\u001b[39;00m\n\u001b[0;32m      <a href='vscode-notebook-cell:/c%3A/Users/Robotux/Documents/Python/20220830VCSPYTVAK/lesson_6.ipynb#X54sZmlsZQ%3D%3D?line=7'>8</a>\u001b[0m \u001b[39mexcept\u001b[39;00m \u001b[39mNameError\u001b[39;00m \u001b[39mas\u001b[39;00m e: \u001b[39m# DO THIS\u001b[39;00m\n",
      "\u001b[1;31mTypeError\u001b[0m: unsupported operand type(s) for /: 'str' and 'int'"
     ]
    }
   ],
   "source": [
    "try:\n",
    "    print('try pradzia')\n",
    "    # print(q)\n",
    "    # print(a)\n",
    "    # print ( 5 / 0)\n",
    "    print ( '5' / 0)\n",
    "    print('try pabaiga') # nesuveikia\n",
    "except NameError as e: # DO THIS\n",
    "    print ('pagauta NameError klaida')\n",
    "except ZeroDivisionError as e: # DO THIS\n",
    "    print ('pagauta ZeroDivisionError klaida')\n",
    "finally:\n",
    "    print ('finally dalis')"
   ]
  },
  {
   "cell_type": "markdown",
   "metadata": {},
   "source": [
    "# OS biblioteka"
   ]
  },
  {
   "cell_type": "code",
   "execution_count": 71,
   "metadata": {},
   "outputs": [],
   "source": [
    "import os"
   ]
  },
  {
   "cell_type": "code",
   "execution_count": 73,
   "metadata": {},
   "outputs": [
    {
     "data": {
      "text/plain": [
       "'c:\\\\Users\\\\Robotux\\\\Documents\\\\Python\\\\20220830VCSPYTVAK'"
      ]
     },
     "execution_count": 73,
     "metadata": {},
     "output_type": "execute_result"
    }
   ],
   "source": [
    "os.getcwd()"
   ]
  },
  {
   "cell_type": "code",
   "execution_count": 77,
   "metadata": {},
   "outputs": [],
   "source": [
    "# absolute or relative\n",
    "os.chdir('../../../Desktop/test')"
   ]
  },
  {
   "cell_type": "code",
   "execution_count": 78,
   "metadata": {},
   "outputs": [
    {
     "data": {
      "text/plain": [
       "'c:\\\\Users\\\\Robotux\\\\Desktop\\\\test'"
      ]
     },
     "execution_count": 78,
     "metadata": {},
     "output_type": "execute_result"
    }
   ],
   "source": [
    "os.getcwd()"
   ]
  },
  {
   "cell_type": "code",
   "execution_count": 79,
   "metadata": {},
   "outputs": [
    {
     "data": {
      "text/plain": [
       "['test_folder', 'text_1 - Copy.txt', 'text_1.txt']"
      ]
     },
     "execution_count": 79,
     "metadata": {},
     "output_type": "execute_result"
    }
   ],
   "source": [
    "os.listdir()"
   ]
  },
  {
   "cell_type": "code",
   "execution_count": 80,
   "metadata": {},
   "outputs": [
    {
     "data": {
      "text/plain": [
       "['.git',\n",
       " '.gitignore',\n",
       " 'lesson_1.ipynb',\n",
       " 'lesson_2.ipynb',\n",
       " 'lesson_3.ipynb',\n",
       " 'lesson_4.ipynb',\n",
       " 'lesson_5.ipynb',\n",
       " 'lesson_6.ipynb',\n",
       " 'README.md',\n",
       " 'test.py',\n",
       " 'text.txt']"
      ]
     },
     "execution_count": 80,
     "metadata": {},
     "output_type": "execute_result"
    }
   ],
   "source": [
    "os.listdir('c:\\\\Users\\\\Robotux\\\\Documents\\\\Python\\\\20220830VCSPYTVAK')"
   ]
  },
  {
   "cell_type": "code",
   "execution_count": 84,
   "metadata": {},
   "outputs": [
    {
     "name": "stdout",
     "output_type": "stream",
     "text": [
      "root: c:\\Users\\Robotux\\Desktop\\test\n",
      "dirs: ['test_folder']\n",
      "files: ['text_1 - Copy.txt', 'text_1.txt']\n",
      "root: c:\\Users\\Robotux\\Desktop\\test\\test_folder\n",
      "dirs: []\n",
      "files: ['test_2.txt']\n"
     ]
    }
   ],
   "source": [
    "for root, dirs, files in os.walk(\"c:\\\\Users\\\\Robotux\\\\Desktop\\\\test\", topdown=True):\n",
    "    print (f'root: {root}')\n",
    "    print (f'dirs: {dirs}') # directories == folder\n",
    "    print (f'files: {files}')"
   ]
  },
  {
   "cell_type": "code",
   "execution_count": 85,
   "metadata": {},
   "outputs": [
    {
     "data": {
      "text/plain": [
       "'c:\\\\Users\\\\Robotux\\\\Desktop\\\\test'"
      ]
     },
     "execution_count": 85,
     "metadata": {},
     "output_type": "execute_result"
    }
   ],
   "source": [
    "os.getcwd()"
   ]
  },
  {
   "cell_type": "code",
   "execution_count": 86,
   "metadata": {},
   "outputs": [],
   "source": [
    "os.chdir('c:/Users/Robotux/Documents/Python/20220830VCSPYTVAK')"
   ]
  },
  {
   "cell_type": "code",
   "execution_count": 87,
   "metadata": {},
   "outputs": [
    {
     "data": {
      "text/plain": [
       "'c:\\\\Users\\\\Robotux\\\\Documents\\\\Python\\\\20220830VCSPYTVAK'"
      ]
     },
     "execution_count": 87,
     "metadata": {},
     "output_type": "execute_result"
    }
   ],
   "source": [
    "os.getcwd()"
   ]
  },
  {
   "cell_type": "code",
   "execution_count": 88,
   "metadata": {},
   "outputs": [
    {
     "ename": "FileNotFoundError",
     "evalue": "[WinError 3] The system cannot find the path specified: 'mkdir/folder_1'",
     "output_type": "error",
     "traceback": [
      "\u001b[1;31m---------------------------------------------------------------------------\u001b[0m",
      "\u001b[1;31mFileNotFoundError\u001b[0m                         Traceback (most recent call last)",
      "\u001b[1;32mc:\\Users\\Robotux\\Documents\\Python\\20220830VCSPYTVAK\\lesson_6.ipynb Cell 49\u001b[0m in \u001b[0;36m<module>\u001b[1;34m\u001b[0m\n\u001b[1;32m----> <a href='vscode-notebook-cell:/c%3A/Users/Robotux/Documents/Python/20220830VCSPYTVAK/lesson_6.ipynb#Y101sZmlsZQ%3D%3D?line=0'>1</a>\u001b[0m os\u001b[39m.\u001b[39;49mmkdir(\u001b[39m'\u001b[39;49m\u001b[39mmkdir/folder_1\u001b[39;49m\u001b[39m'\u001b[39;49m)\n",
      "\u001b[1;31mFileNotFoundError\u001b[0m: [WinError 3] The system cannot find the path specified: 'mkdir/folder_1'"
     ]
    }
   ],
   "source": [
    "os.mkdir('mkdir/folder_1')"
   ]
  },
  {
   "cell_type": "code",
   "execution_count": 89,
   "metadata": {},
   "outputs": [],
   "source": [
    "os.mkdir('mkdir')"
   ]
  },
  {
   "cell_type": "code",
   "execution_count": 97,
   "metadata": {},
   "outputs": [],
   "source": [
    "os.makedirs('mkdir/folder_1/folder_2/folder_3') # error if exists"
   ]
  },
  {
   "cell_type": "code",
   "execution_count": 92,
   "metadata": {},
   "outputs": [],
   "source": [
    "os.makedirs('mkdir/folder_1/folder_2/folder_3', exist_ok=True) # no error"
   ]
  },
  {
   "cell_type": "code",
   "execution_count": 93,
   "metadata": {},
   "outputs": [
    {
     "ename": "OSError",
     "evalue": "[WinError 145] The directory is not empty: 'mkdir'",
     "output_type": "error",
     "traceback": [
      "\u001b[1;31m---------------------------------------------------------------------------\u001b[0m",
      "\u001b[1;31mOSError\u001b[0m                                   Traceback (most recent call last)",
      "\u001b[1;32mc:\\Users\\Robotux\\Documents\\Python\\20220830VCSPYTVAK\\lesson_6.ipynb Cell 53\u001b[0m in \u001b[0;36m<module>\u001b[1;34m\u001b[0m\n\u001b[1;32m----> <a href='vscode-notebook-cell:/c%3A/Users/Robotux/Documents/Python/20220830VCSPYTVAK/lesson_6.ipynb#Y105sZmlsZQ%3D%3D?line=0'>1</a>\u001b[0m os\u001b[39m.\u001b[39;49mrmdir(\u001b[39m'\u001b[39;49m\u001b[39mmkdir\u001b[39;49m\u001b[39m'\u001b[39;49m)\n",
      "\u001b[1;31mOSError\u001b[0m: [WinError 145] The directory is not empty: 'mkdir'"
     ]
    }
   ],
   "source": [
    "os.rmdir('mkdir')"
   ]
  },
  {
   "cell_type": "code",
   "execution_count": 96,
   "metadata": {},
   "outputs": [],
   "source": [
    "os.removedirs('mkdir/folder_1/folder_2/folder_3')"
   ]
  },
  {
   "cell_type": "code",
   "execution_count": 98,
   "metadata": {},
   "outputs": [],
   "source": [
    "# delete files and folder\n",
    "import shutil\n",
    "shutil.rmtree('mkdir')"
   ]
  },
  {
   "cell_type": "code",
   "execution_count": 99,
   "metadata": {},
   "outputs": [],
   "source": [
    "os.rename('test.py', 'multiplication.py')"
   ]
  },
  {
   "cell_type": "markdown",
   "metadata": {},
   "source": [
    "## Dokumentų skaitymas ir rašymas"
   ]
  },
  {
   "cell_type": "code",
   "execution_count": 101,
   "metadata": {},
   "outputs": [
    {
     "name": "stdout",
     "output_type": "stream",
     "text": [
      "Hello from file\n"
     ]
    },
    {
     "ename": "ValueError",
     "evalue": "I/O operation on closed file.",
     "output_type": "error",
     "traceback": [
      "\u001b[1;31m---------------------------------------------------------------------------\u001b[0m",
      "\u001b[1;31mValueError\u001b[0m                                Traceback (most recent call last)",
      "\u001b[1;32mc:\\Users\\Robotux\\Documents\\Python\\20220830VCSPYTVAK\\lesson_6.ipynb Cell 58\u001b[0m in \u001b[0;36m<module>\u001b[1;34m\u001b[0m\n\u001b[0;32m      <a href='vscode-notebook-cell:/c%3A/Users/Robotux/Documents/Python/20220830VCSPYTVAK/lesson_6.ipynb#Y115sZmlsZQ%3D%3D?line=1'>2</a>\u001b[0m     text \u001b[39m=\u001b[39m fr\u001b[39m.\u001b[39mread()\n\u001b[0;32m      <a href='vscode-notebook-cell:/c%3A/Users/Robotux/Documents/Python/20220830VCSPYTVAK/lesson_6.ipynb#Y115sZmlsZQ%3D%3D?line=3'>4</a>\u001b[0m \u001b[39mprint\u001b[39m(text)\n\u001b[1;32m----> <a href='vscode-notebook-cell:/c%3A/Users/Robotux/Documents/Python/20220830VCSPYTVAK/lesson_6.ipynb#Y115sZmlsZQ%3D%3D?line=4'>5</a>\u001b[0m fr\u001b[39m.\u001b[39;49mread()\n",
      "\u001b[1;31mValueError\u001b[0m: I/O operation on closed file."
     ]
    }
   ],
   "source": [
    "with open('text.txt', 'r') as fr: # bet koks pavadinimas\n",
    "    text = fr.read()\n",
    "\n",
    "print(text)\n",
    "# fr.read() # error"
   ]
  },
  {
   "cell_type": "code",
   "execution_count": 105,
   "metadata": {},
   "outputs": [],
   "source": [
    "our_text = 'hello from Python\\n'\n",
    "our_text_2 = 'second line'\n",
    "with open('text_write.txt', 'w') as fw: # bet koks pavadinimas\n",
    "    fw.write(our_text)\n",
    "    fw.write(our_text_2)"
   ]
  },
  {
   "cell_type": "markdown",
   "metadata": {},
   "source": [
    "## JSON"
   ]
  },
  {
   "cell_type": "code",
   "execution_count": 106,
   "metadata": {},
   "outputs": [],
   "source": [
    "my_dict = {\n",
    "    'name': 'Darius',\n",
    "    'hobbies': ['tennis', 'bicycle']\n",
    "}"
   ]
  },
  {
   "cell_type": "code",
   "execution_count": 107,
   "metadata": {},
   "outputs": [],
   "source": [
    "import json\n",
    "\n",
    "# with open('text.json', 'wb') as fw: # wb - write binary\n",
    "with open('person.json', 'w') as fw: # bet koks pavadinimas\n",
    "    json.dump( my_dict, fw )"
   ]
  },
  {
   "cell_type": "code",
   "execution_count": 108,
   "metadata": {},
   "outputs": [
    {
     "name": "stdout",
     "output_type": "stream",
     "text": [
      "{'name': 'Darius', 'hobbies': ['tennis', 'bicycle']}\n"
     ]
    }
   ],
   "source": [
    "\n",
    "with open('person.json', 'r') as any_variable_name: # bet koks pavadinimas\n",
    "    loaded_dict = json.load(any_variable_name)\n",
    "\n",
    "print (loaded_dict)"
   ]
  },
  {
   "cell_type": "code",
   "execution_count": null,
   "metadata": {},
   "outputs": [],
   "source": []
  }
 ],
 "metadata": {
  "kernelspec": {
   "display_name": "Python 3.10.2 64-bit",
   "language": "python",
   "name": "python3"
  },
  "language_info": {
   "codemirror_mode": {
    "name": "ipython",
    "version": 3
   },
   "file_extension": ".py",
   "mimetype": "text/x-python",
   "name": "python",
   "nbconvert_exporter": "python",
   "pygments_lexer": "ipython3",
   "version": "3.10.2"
  },
  "orig_nbformat": 4,
  "vscode": {
   "interpreter": {
    "hash": "db50a459ab6695ace3368e8957af3456c8c93e92d9fe6c38987133d01669da40"
   }
  }
 },
 "nbformat": 4,
 "nbformat_minor": 2
}
